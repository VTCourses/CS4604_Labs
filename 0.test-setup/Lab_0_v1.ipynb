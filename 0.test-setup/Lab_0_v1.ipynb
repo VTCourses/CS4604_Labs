{
 "cells": [
  {
   "cell_type": "code",
   "execution_count": 2,
   "id": "hazardous-uniform",
   "metadata": {},
   "outputs": [],
   "source": [
    "import os\n",
    "username = \"cs4604\"\n",
    "password = os.environ['labpasswd']\n",
    "# password = \"labpasswd\"\n",
    "host = \"<Replace it! See information in the Canvas>\""
   ]
  },
  {
   "cell_type": "code",
   "execution_count": 3,
   "id": "divided-discretion",
   "metadata": {},
   "outputs": [],
   "source": [
    "%reload_ext sql"
   ]
  },
  {
   "cell_type": "code",
   "execution_count": null,
   "id": "constitutional-boutique",
   "metadata": {},
   "outputs": [],
   "source": [
    "%sql postgresql://$username:$password@$host/testdb"
   ]
  },
  {
   "cell_type": "code",
   "execution_count": null,
   "id": "positive-chaos",
   "metadata": {},
   "outputs": [],
   "source": [
    "%sql select 'it works!' as test;"
   ]
  }
 ],
 "metadata": {
  "kernelspec": {
   "display_name": "Python 3",
   "language": "python",
   "name": "python3"
  },
  "language_info": {
   "codemirror_mode": {
    "name": "ipython",
    "version": 3
   },
   "file_extension": ".py",
   "mimetype": "text/x-python",
   "name": "python",
   "nbconvert_exporter": "python",
   "pygments_lexer": "ipython3",
   "version": "3.6.12"
  }
 },
 "nbformat": 4,
 "nbformat_minor": 5
}
